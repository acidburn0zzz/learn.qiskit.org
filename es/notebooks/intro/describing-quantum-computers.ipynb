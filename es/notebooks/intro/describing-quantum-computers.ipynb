{
  "cells": [
    {
      "cell_type": "markdown",
      "metadata": {
        "gloss": {
          "complex-number": {
            "text": "Complex numbers can be made from combinations of real and <a href='https://en.wikipedia.org/wiki/Imaginary_number'>imaginary numbers</a>. If you're not sure what this means, don't worry! You won't need to in this course (but you can <a href='https://en.wikipedia.org/wiki/Complex_number'>read more</a> if you're interested.",
            "title": "Complex number"
          },
          "esoteric": {
            "text": "Esoteric words are specialized words that most people won't understand. We'll try to avoid them as much as possible, but they can be useful sometimes.",
            "title": "esoteric"
          },
          "real-number": {
            "text": "A real number is a number that only has a magnitude. If you've not heard of a real number before, you can probably drop the 'real' and just call them 'numbers'. Examples of real numbers include: 112, -5.4, and π. <a href='https://en.wikipedia.org/wiki/Real_number'>Read more</a>.",
            "title": "Real number"
          }
        }
      },
      "source": [
        "# Descripción de las computadoras cuánticas.\n",
        "\n",
        "Este capítulo presentará los diferentes objetos matemáticos y notaciones que usaremos para describir las computadoras cuánticas. Los símbolos, las ecuaciones y el vocabulario especializado nos permiten comunicarnos y trabajar con las matemáticas de una manera muy concisa, son herramientas increíblemente poderosas, pero también tienen un costo; son difíciles de entender si no sabes lo que significan todos los símbolos, y esto puede alienar a las personas. Para contrarrestar esto, en este libro de texto, las ecuaciones son interactivas. Puede mover el mouse sobre los símbolos para ver qué significan. También agregaremos lentamente algunas palabras [esotéricas](gloss:esoteric) para que pueda comenzar a hablar el lenguaje de las matemáticas y la computación cuántica, y también puede ver las explicaciones de estas palabras moviendo el mouse sobre estas palabras.\n",
        "\n",
        "## amplitudes\n",
        "\n",
        "Una probabilidad clásica a menudo se representa mediante un [número real](gloss:real-number) entre 0 y 1, pero las amplitudes también tienen una dirección. Un candidato natural para representar una amplitud es un [número complejo](gloss:complex-number) , ya que un número complejo también se puede describir completamente tanto por una magnitud como por una dirección, pero en este curso solo trabajaremos con amplitudes que pueden apuntar en dos direcciones (por ejemplo, izquierda y derecha). ) y no nos preocuparemos de nada más.\n",
        "\n",
        "![Imagen que compara amplitudes y probabilidades](images/quantum-states/prob-vs-amp.svg)\n",
        "\n",
        "Esto simplifica mucho las matemáticas, ya que ahora podemos describir cualquier amplitud como un número entre -1 y +1; si el número es positivo, la amplitud está mirando hacia adelante, y si es negativo, está mirando hacia atrás. ¡Resulta que esto todavía es suficiente para hacer cosas interesantes!\n",
        "\n",
        "<!-- ::: q-block.exercise -->\n",
        "\n",
        "### Test rápido\n",
        "\n",
        "<!-- ::: q-quiz(goal=\"intro-describing-0\") -->\n",
        "\n",
        "<!-- ::: .question -->\n",
        "\n",
        "¿Cuál de estas es una amplitud válida pero *no* una probabilidad válida?\n",
        "\n",
        "<!-- ::: -->\n",
        "\n",
        "<!-- ::: .option(correct) -->\n",
        "\n",
        "1. $-1$\n",
        "\n",
        "<!-- ::: -->\n",
        "\n",
        "<!-- ::: .option -->\n",
        "\n",
        "1. $1/3$\n",
        "\n",
        "<!-- ::: -->\n",
        "\n",
        "<!-- ::: .option -->\n",
        "\n",
        "1. $1.01$\n",
        "\n",
        "<!-- ::: -->\n",
        "\n",
        "<!-- ::: .option -->\n",
        "\n",
        "1. $\\sqrt{-2}$\n",
        "\n",
        "<!-- ::: -->\n",
        "\n",
        "<!-- ::: -->\n",
        "\n",
        "<!-- ::: -->"
      ]
    },
    {
      "cell_type": "markdown",
      "metadata": {
        "formulas": {
          "_amp-0-0": {
            "meaning": "This is the amplitude of the two-qubit state <code>00</code>, it's equal to the square-root of a half."
          },
          "_amp-1-0": {
            "meaning": "This is the amplitude of the two-qubit state <code>01</code>, it's equal to the square-root of a half."
          },
          "_amp-2-0": {
            "meaning": "This is the amplitude of the two-qubit state <code>10</code>, it's equal to 0."
          },
          "_amp-3-0": {
            "meaning": "This is the amplitude of the two-qubit state <code>11</code>, it's equal to 0."
          },
          "def-equal": {
            "meaning": "This means we are defining the things on the left of this symbol to be equal to the things on the right of this symbol."
          },
          "x-ket": {
            "meaning": "This is a vector we have labelled '|x⟩', the '|' and '⟩' remind us this label refers to a vector.",
            "say": "ket x"
          }
        }
      },
      "source": [
        "## Vectores de estado\n",
        "\n",
        "Vimos en la última página que podemos predecir el comportamiento de un sistema cuántico haciendo un seguimiento de las amplitudes de probabilidad para cada resultado en cada punto de nuestro cálculo. También vimos que, para n qubits, hay $2^n$ resultados posibles, y podemos almacenar estas amplitudes en listas de longitud $2^n$ que llamamos vectores. Dado que estos vectores describen el estado de nuestros qubits, los llamamos \"vectores de estado\".\n",
        "\n",
        "Aquí hay un ejemplo de un vector de estado para una computadora cuántica con dos qubits:\n",
        "\n",
        "$$\\class{x-ket}{|x\\rangle} \\class{def-equal}{:=} \\begin{bmatrix}\\cssId{_amp-0-0}{\\sqrt{\\tfrac{1}{ 2}}} \\ \\cssId{_amp-1-0}{\\sqrt{\\tfrac{1}{2}}} \\ \\cssId{_amp-2-0}{0} \\ \\cssId{_amp-3-0 }{0} \\end{bmatriz}$$\n",
        "\n",
        "Dedique algún tiempo a leer la información sobre herramientas en la ecuación anterior, luego responda las preguntas a continuación.\n",
        "\n",
        "<!-- ::: q-block.exercise -->\n",
        "\n",
        "### Test rápido\n",
        "\n",
        "<!-- ::: q-quiz(goal=\"intro-describing-1\") -->\n",
        "\n",
        "<!-- ::: .question -->\n",
        "\n",
        "En el vector de estado anterior, ¿cuál es la *amplitud* del resultado '01'?\n",
        "\n",
        "<!-- ::: -->\n",
        "\n",
        "<!-- ::: .option -->\n",
        "\n",
        "1. $1$\n",
        "\n",
        "<!-- ::: -->\n",
        "\n",
        "<!-- ::: .option(correct) -->\n",
        "\n",
        "1. $\\sqrt{\\tfrac{1}{2}}$\n",
        "\n",
        "<!-- ::: -->\n",
        "\n",
        "<!-- ::: .option -->\n",
        "\n",
        "1. $1/2$\n",
        "\n",
        "<!-- ::: -->\n",
        "\n",
        "<!-- ::: .option -->\n",
        "\n",
        "1. $0$\n",
        "\n",
        "<!-- ::: -->\n",
        "\n",
        "<!-- ::: -->\n",
        "\n",
        "---\n",
        "\n",
        "<!-- ::: q-quiz(goal=\"intro-describing-2\") -->\n",
        "\n",
        "<!-- ::: .question -->\n",
        "\n",
        "Si el vector de estado anterior describiera el estado de algunos qubits, ¿cuál sería la *probabilidad* de medir '00'?\n",
        "\n",
        "<!-- ::: -->\n",
        "\n",
        "<!-- ::: .option -->\n",
        "\n",
        "1. $1$\n",
        "\n",
        "<!-- ::: -->\n",
        "\n",
        "<!-- ::: .option -->\n",
        "\n",
        "1. $\\sqrt{\\tfrac{1}{2}}$\n",
        "\n",
        "<!-- ::: -->\n",
        "\n",
        "<!-- ::: .option(correct) -->\n",
        "\n",
        "1. $1/2$\n",
        "\n",
        "<!-- ::: -->\n",
        "\n",
        "<!-- ::: .option -->\n",
        "\n",
        "1. $0$\n",
        "\n",
        "<!-- ::: -->\n",
        "\n",
        "<!-- ::: -->\n",
        "\n",
        "<!-- ::: -->"
      ]
    },
    {
      "cell_type": "markdown",
      "metadata": {
        "formulas": {
          "_amp-0-1": {
            "meaning": "Multiplying this number by the scalar on the left of the vector gives us the amplitude of the state <code>00</code>."
          },
          "_amp-0-general": {
            "meaning": "This is the amplitude of the state <code>00</code>."
          },
          "_amp-1-1": {
            "meaning": "Multiplying this number by the scalar on the left of the vector gives us the amplitude of the state <code>01</code>."
          },
          "_amp-1-general": {
            "meaning": "This is the amplitude of the state <code>01</code>."
          },
          "_amp-2-1": {
            "meaning": "Multiplying this number by the scalar on the left of the vector gives us the amplitude of the state <code>10</code>."
          },
          "_amp-2-general": {
            "meaning": "This is the amplitude of the state <code>10</code>."
          },
          "_amp-3-1": {
            "meaning": "Multiplying this number by the scalar on the left of the vector gives us the amplitude of the state <code>11</code>."
          },
          "_amp-3-general": {
            "meaning": "This is the amplitude of the state <code>11</code>."
          },
          "_number-three": {
            "meaning": "This is just the normal number <a href='https://en.wikipedia.org/wiki/3'>three</a>. Because it's immediately next to the vector, it means we are multiplying the vector by this number.",
            "say": "Three"
          },
          "_psi-ket": {
            "meaning": "This is a vector we have labelled '|ψ⟩', the '|' and '⟩' remind us this label refers to a vector. The character 'ψ' is written 'psi' in english.",
            "say": "ket sigh (the 'p' is silent)"
          },
          "_sq-amp0": {
            "meaning": "This number is proportional to the amplitude of the state <code>0</code>."
          },
          "_sq-amp1": {
            "meaning": "This number is proportional to the amplitude of the state <code>1</code>."
          },
          "_vec-el-0": {
            "meaning": "This is the zeroth element of the vector."
          },
          "_vec-el-1": {
            "meaning": "This is the first element of the vector."
          },
          "_vec-el-2": {
            "meaning": "This is the second element of the vector."
          },
          "_vec-el-3": {
            "meaning": "This is the third element of the vector."
          },
          "_vec-el-n": {
            "meaning": "This is the (N-1)th element of the vector. Since there are N elements (and we started counting at 0), this is also the last element."
          },
          "def-00": {
            "meaning": "This is a statevector we are defining here (but is also a common convention in quantum computing) which corresponds to being in the state <code>00</code> with certainty."
          },
          "def-01": {
            "meaning": "This is a statevector we are defining here (but is also a common convention in quantum computing) which corresponds to being in the state <code>01</code> with certainty."
          },
          "def-10": {
            "meaning": "This is a statevector we are defining here (but is also a common convention in quantum computing) which corresponds to being in the state <code>10</code> with certainty."
          },
          "def-11": {
            "meaning": "This is a statevector we are defining here (but is also a common convention in quantum computing) which corresponds to being in the state <code>11</code> with certainty."
          },
          "dots": {
            "meaning": "These dots mean \"and so on\", implying a continuing pattern."
          },
          "equals": {
            "meaning": "Everything to the left of this sign is equal to everything to the right of the sign.",
            "say": "Equals"
          },
          "minus-ket": {
            "meaning": "This is a vector we have labelled '|-⟩', the '|' and '⟩' remind us this label refers to a vector.",
            "say": "ket minus"
          },
          "plus-ket": {
            "meaning": "This is a vector we have labelled '|+⟩', the '|' and '⟩' remind us this label refers to a vector.",
            "say": "ket plus"
          },
          "scalar": {
            "meaning": "This is just a normal number. Because it's immediately next to the vector, it means we are multiplying (i.e. scaling) the vector by this number."
          }
        },
        "gloss": {
          "scalar-gloss": {
            "text": "This is just a normal number, i.e. not a vector or matrix.",
            "title": "Scalar"
          }
        }
      },
      "source": [
        "## Sumar y multiplicar vectores\n",
        "\n",
        "Si estudias otras áreas de las matemáticas, encontrarás que muchas cosas pueden considerarse vectores. Hemos introducido los vectores como 'listas de números', porque así es como los consideraremos tanto en este libro de texto como en Qiskit. Pero lo que separa a un vector de cualquier lista antigua de números es que los matemáticos decidieron algunas reglas bien definidas para sumar dos vectores y para multiplicar vectores por [escalares](gloss:scalar-gloss) .\n",
        "\n",
        "### Multiplicar vectores por escalares\n",
        "\n",
        "Por ejemplo, aquí hay un vector multiplicado por un escalar:\n",
        "\n",
        "$$ \\cssId{_number-tres}{3} \\begin{bmatrix} \\class{_vec-el-0}{1} \\ \\class{_vec-el-1}{2} \\ \\class{_vec-el- 2}{-1} \\ \\class{_vec-el-3}{\\tfrac{1}{2}} \\ \\end{bmatrix} \\class{equals}{=} \\begin{bmatrix} \\class{_vec- el-0}{3} \\ \\class{_vec-el-1}{6} \\ \\class{_vec-el-2}{-3} \\ \\class{_vec-el-3}{\\tfrac{3} {2}} \\ \\end{bmatriz} $$\n",
        "\n",
        "Podemos ver que cada elemento del vector ha sido multiplicado por 3. La regla más general para un vector con $N$ elementos es:\n",
        "\n",
        "$$ \\class{scalar}{s} \\begin{bmatrix} \\class{_vec-el-0}{e_0} \\ \\class{_vec-el-1}{e_1} \\ \\class{_vec-el-2} {e_2} \\ \\class{puntos}{\\vdots} \\ \\class{ *vec-el-n}{e* {N-1}} \\ \\end{bmatrix} \\class{equals}{=} \\begin{bmatrix} \\class{_vec-el-0}{s\\times e_0} \\ \\class{_vec-el-1}{s\\times e_1} \\ \\class{_vec-el-2}{s\\times e_2} \\ \\class {puntos}{\\vpuntos} \\ \\class{ *vec-el-n}{s\\times e* {N-1}} \\ \\end{bmatrix} $$\n",
        "\n",
        "Así que podríamos haber escrito el vector de estado $|x\\rangle$ que definimos arriba más claramente así:\n",
        "\n",
        "$$ \\class{x-ket}{|x\\rangle} = \\class{scalar}{\\sqrt{\\tfrac{1}{2}}} \\begin{bmatrix} \\cssId{_amp-0-1}{ 1} \\ \\cssId{_amp-1-1}{1} \\ \\cssId{_amp-2-1}{0} \\ \\cssId{_amp-3-1}{0} \\ \\end{bmatrix} $$\n",
        "\n",
        "### Sumar dos vectores\n",
        "\n",
        "La segunda regla es para sumar dos vectores. Esto solo se define cuando los dos vectores tienen el mismo número de elementos y da un nuevo vector con el mismo número de elementos. Esta es la regla general:\n",
        "\n",
        "$$ \\begin{bmatrix} \\class{_vec-el-0}{a_0} \\ \\class{_vec-el-1}{a_1} \\ \\class{_vec-el-2}{a_2} \\ \\class{_vec -el-3}{a_3} \\ \\class{puntos}{\\vdots} \\ \\class{ *vec-el-n}{a* {N-1}} \\ \\end{bmatrix} + \\begin{bmatrix} \\class {_vec-el-0}{b_0} \\ \\class{_vec-el-1}{b_1} \\ \\class{_vec-el-2}{b_2} \\ \\class{_vec-el-3}{b_3} \\ \\class{puntos}{\\vpuntos} \\ \\class{ *vec-el-n}{b* {N-1}} \\ \\end{bmatrix} \\class{equals}{=} \\begin{bmatrix} \\class{_vec -el-0}{a_0 + b_0} \\ \\class{_vec-el-1}{a_1 + b_1} \\ \\class{_vec-el-2}{a_2 + b_2} \\ \\class{ <em data-md-type=\"raw_html\">vec-el-3} {a_3 + b_3} \\ \\class{puntos}{\\vdots} \\ \\class{ *vec-el-n}{a* {N-1} + b</em> {N-1}} \\ \\end{bmatrix} $$\n",
        "\n",
        "Esto significa que podemos sumar y restar vectores para hacer nuevos vectores. Por ejemplo, si definimos los vectores $|00\\rangle$ y $|01\\rangle$ así:\n",
        "\n",
        "$$ \\class{def-00}{|00\\rangle} \\class{def-equal}{:=} \\begin{bmatrix} \\class{_amp-0-general}{1} \\ \\class{_amp-1 -general}{0} \\class{_amp-2-general}{0} \\class{_amp-3-general}{0} \\end{bmatrix}, \\quad \\class{def-01}{|01 \\rangle} \\class{def-equal}{:=} \\begin{bmatrix} \\class{_amp-0-general}{0} \\ \\class{_amp-1-general}{1} \\ \\class{_amp- 2-general}{0} \\class{_amp-3-general}{0} \\end{bmatrix} $$\n",
        "\n",
        "Podemos escribir $\\class{x-ket}{|x\\rangle}$ en la forma:\n",
        "\n",
        "$$\\class{x-ket}{|x\\rangle} = \\sqrt{\\tfrac{1}{2}}(\\class{def-00}{|00\\rangle} + \\class{def-01} {|01\\ángulo})$$\n",
        "\n",
        "Llamamos a agregar estados cuánticos como este \"superponerlos\", por lo que podemos decir que \"$|x\\rangle$ es una superposición de los estados $|00\\rangle$ y $|01\\rangle$\". De hecho, es una convención en la computación cuántica definir los estados básicos computacionales de la siguiente manera:\n",
        "\n",
        "$$ \\class{def-00}{|00\\rangle} \\class{def-equal}{:=} \\begin{bmatrix} \\class{_amp-0-general}{1} \\ \\class{_amp-1 -general}{0} \\class{_amp-2-general}{0} \\class{_amp-3-general}{0} \\end{bmatrix}, \\quad \\class{def-01}{|01 \\rangle} \\class{def-equal}{:=} \\begin{bmatrix} \\class{_amp-0-general}{0} \\ \\class{_amp-1-general}{1} \\ \\class{_amp- 2-general}{0} \\class{_amp-3-general}{0} \\end{bmatrix}, \\quad \\class{def-10}{|10\\rangle} \\class{def-equal}{: =} \\begin{bmatrix} \\class{_amp-0-general}{0} \\ \\class{_amp-1-general}{0} \\ \\class{_amp-2-general}{1} \\ \\class{_amp -3-general}{0} \\end{bmatrix}, \\quad \\class{def-11}{|11\\rangle} \\class{def-equal}{:=} \\begin{bmatrix} \\class{_amp- 0-general}{0} \\ \\class{_amp-1-general}{0} \\ \\class{_amp-2-general}{0} \\ \\class{_amp-3-general}{1} \\end{bmatrix } $$\n",
        "\n",
        "Y podemos escribir cualquier estado cuántico como una superposición de estos vectores de estado, si multiplicamos cada vector por el número correcto y los sumamos:\n",
        "\n",
        "$$ \\cssId{_psi-ket}{|\\psi\\rangle} = \\class{ *amp-0-general}{a* {00}}\\class{def-00}{|00\\rangle}\n",
        "\n",
        "- \\class{ *amp-1-general}{a* {01}}\\class{def-01}{|01\\rangle}\n",
        "- \\class{ *amp-2-general}{a* {10}}\\class{def-10}{|10\\rangle}\n",
        "- \\class{ *amp-3-general}{a* {11}}\\class{def-11}{|11\\rangle} \\class{equals}{=} \\begin{bmatrix} \\class{ *amp-0-general} {a* {00}} \\ \\class{ *amp-1-general}{a* {01}} \\ \\class{ *amp-2-general}{a* {10}} \\ \\class{ *amp-3-general}{a* {11}} \\ \\end{bmatriz} $$\n",
        "\n",
        "Como podemos escribir cualquier vector como una combinación de estos cuatro vectores, decimos que estos cuatro vectores forman una base, a la que llamaremos *base computacional* . La base de cálculo no es la única base. Para qubits individuales, una base popular está formada por los vectores $\\class{plus-ket}{|{+}\\rangle}$ y $\\class{minus-ket}{|{-}\\rangle}$:\n",
        "\n",
        "<!-- ::: column -->\n",
        "\n",
        "![imagen que muestra la base |0>, |1> y la base |+>, |-> en el mismo plano](images/quantum-states/basis.svg)\n",
        "\n",
        "<!-- ::: column -->\n",
        "\n",
        "$$ \\class{plus-ket}{|{+}\\rangle} = \\sqrt{\\tfrac{1}{2}} \\begin{bmatrix} \\class{_sq-amp0}{1} \\ \\class{_sq -amp1}{1} \\end{bmatrix} $$ $$ \\class{menos ket}{|{-}\\rangle} = \\sqrt{\\tfrac{1}{2}} \\begin{bmatrix} \\class {_sq-amp0}{1} \\ \\class{_sq-amp1}{-1} \\end{bmatrix} $$\n",
        "\n",
        "<!-- ::: -->\n",
        "\n",
        "<!-- ::: q-block.exercise -->\n",
        "\n",
        "### Intentalo\n",
        "\n",
        "Encuentre valores para $\\alpha$, $\\beta$, $\\gamma$ y $\\delta$ tales que estas ecuaciones sean verdaderas:\n",
        "\n",
        "- $\\alpha|{+}\\rangle + \\beta|{-}\\rangle = |0\\rangle$\n",
        "- $\\gamma|{+}\\rangle + \\delta|{-}\\rangle = |1\\rangle$\n",
        "\n",
        "<!-- ::: -->"
      ]
    },
    {
      "cell_type": "markdown",
      "metadata": {
        "formulas": {
          "_amp-i": {
            "meaning": "'a<sub>i</sub>' is the amplitude of the state |i⟩, where |i⟩ is one of the computational basis states."
          },
          "sum": {
            "meaning": "This means we add up the things on the right with different values of i, starting at i=0.",
            "say": "'sum' or 'summation'. The character 'Σ' is capital <a href='https://en.wikipedia.org/wiki/Sigma'>sigma</a>."
          }
        },
        "gloss": {
          "matrix": {
            "text": "Matrices are tables of numbers. They also come with some rules for adding and multiplying like vectors did. <a href='https://en.wikipedia.org/wiki/Matrix_(mathematics)'>Read more</a>.",
            "title": "Matrix"
          }
        }
      },
      "source": [
        "## ¿Cuántos vectores de estado diferentes hay?\n",
        "\n",
        "Sabemos que podemos representar cualquier estado cuántico usando vectores, pero ¿cualquier vector es un estado cuántico válido? En nuestro caso, no; dado que elevamos al cuadrado nuestras amplitudes para encontrar la probabilidad de que ocurran los resultados, necesitamos que estos cuadrados sumen uno, de lo contrario no tiene sentido.\n",
        "\n",
        "$$ \\cssId{suma}{\\sum^{N-1}_{i=0}} \\cssId{_amp-i}{a_i}^2 = 1 $$\n",
        "\n",
        "<!-- ::: q-block.exercise -->\n",
        "\n",
        "### Test rápido\n",
        "\n",
        "<!-- ::: q-quiz(goal=\"quiz2\") -->\n",
        "\n",
        "<!-- ::: .question -->\n",
        "\n",
        "¿Cuál de estos es un estado cuántico válido? (Intente sumar las amplitudes al cuadrado).\n",
        "\n",
        "<!-- ::: -->\n",
        "\n",
        "<!-- ::: .option(correct) -->\n",
        "\n",
        "1. $\\sqrt{\\tfrac{1}{3}}\\begin{bmatrix} 1 \\ -1 \\ 1 \\ 0 \\end{bmatrix}$\n",
        "\n",
        "<!-- ::: -->\n",
        "\n",
        "<!-- ::: .option -->\n",
        "\n",
        "1. $\\sqrt{\\tfrac{1}{2}}\\begin{bmatrix} 1 \\ -1 \\ -1 \\ 1 \\end{bmatrix}$\n",
        "\n",
        "<!-- ::: -->\n",
        "\n",
        "<!-- ::: .option -->\n",
        "\n",
        "1. $\\tfrac{1}{2}\\begin{bmatrix} 1 \\ 1 \\end{bmatrix}$\n",
        "\n",
        "<!-- ::: -->\n",
        "\n",
        "<!-- ::: -->\n",
        "\n",
        "<!-- ::: -->\n",
        "\n",
        "Otro factor es algo que llamamos \"fases globales\" del vector de estado. Dado que solo sabemos que la fase existe debido a los efectos de interferencia que produce, solo podemos medir las *diferencias* de fase. Si rotamos todas las amplitudes en un vector de estado por la misma cantidad, aún veríamos exactamente el mismo comportamiento.\n",
        "\n",
        "<!-- ::: column -->\n",
        "\n",
        "![imagen que muestra efectos de interferencia con diferentes fases iniciales](images/quantum-states/global-phase-L.svg)\n",
        "\n",
        "<!-- ::: column -->\n",
        "\n",
        "![imagen que muestra efectos de interferencia con diferentes fases iniciales](images/quantum-states/global-phase-R.svg)\n",
        "\n",
        "<!-- ::: -->\n",
        "\n",
        "Por ejemplo, no hay ningún experimento que podamos realizar que sea capaz de distinguir entre estos dos estados:\n",
        "\n",
        "<!-- ::: column -->\n",
        "\n",
        "$$ |a\\rangle = \\sqrt{\\tfrac{1}{2}}\\begin{bmatrix} 1 \\ 0 \\ 0 \\ 1 \\end{bmatrix} $$\n",
        "\n",
        "<!-- ::: column -->\n",
        "\n",
        "$$ -|a\\rangle = \\sqrt{\\tfrac{1}{2}}\\begin{bmatrix} -1 \\ 0 \\ 0 \\ -1 \\end{bmatrix} $$\n",
        "\n",
        "<!-- ::: -->\n",
        "\n",
        "Porque las diferencias entre cada una de las amplitudes es la misma. Se podría decir que estos dos vectores son diferentes *matemáticamente* , pero *físicamente* iguales.\n",
        "\n",
        "## Operaciones cuánticas\n",
        "\n",
        "Entonces, ahora que sabemos todo sobre los diferentes estados en los que pueden estar nuestros qubits, es hora de ver cómo representamos las operaciones que transforman un estado en otro.\n",
        "\n",
        "De la misma manera que existe una probabilidad de transición de que una determinada acción transforme una moneda de cara a cruz, existe una amplitud de transición para cada estado inicial y final de nuestros qubits. Podemos describir cualquier operación cuántica a través de estas amplitudes de transición.\n",
        "\n",
        "![Imagen que muestra dos vectores de estado antes y después de una operación](images/quantum-states/quantum-operation.svg)\n",
        "\n",
        "Entonces, ¿qué transformaciones posibles hay? Digamos que tenemos un estado inicial $|a\\rangle$ que se transforma en un nuevo estado $|b\\rangle$. Si queremos que nuestra representación cubra todas las transformaciones posibles, entonces cada amplitud en $|a\\rangle$ debe tener una amplitud de transición para cada amplitud en $|b\\rangle$.\n",
        "\n",
        "<!-- ::: q-block.exercise -->\n",
        "\n",
        "### Cuestionario rápido\n",
        "\n",
        "<!-- ::: q-quiz(goal=\"intro-describing-3\") -->\n",
        "\n",
        "<!-- ::: .question -->\n",
        "\n",
        "Un vector de estado $n$-qubit puede contener hasta $2^n$ amplitudes. ¿Cuál es el mayor número de amplitudes de transición que necesitaríamos para representar cualquier operación cuántica en $n$ qubits?\n",
        "\n",
        "<!-- ::: -->\n",
        "\n",
        "<!-- ::: .option -->\n",
        "\n",
        "1. $2\\cdot 2^n$\n",
        "\n",
        "<!-- ::: -->\n",
        "\n",
        "<!-- ::: .option(correct) -->\n",
        "\n",
        "1. $(2^n)^2$\n",
        "\n",
        "<!-- ::: -->\n",
        "\n",
        "<!-- ::: .option -->\n",
        "\n",
        "1. $4^n$\n",
        "\n",
        "<!-- ::: -->\n",
        "\n",
        "<!-- ::: .option -->\n",
        "\n",
        "1. $2^{2^n}$\n",
        "\n",
        "<!-- ::: -->\n",
        "\n",
        "<!-- ::: -->\n",
        "\n",
        "<!-- ::: -->\n",
        "\n",
        "Dibujar líneas como esta es una forma un poco complicada de hacerlo, por lo que podemos poner todos estos números en una [matriz](gloss:matrix) :"
      ]
    },
    {
      "cell_type": "markdown",
      "metadata": {
        "formulas": {
          "_cnot-gate": {
            "meaning": "This is the label we have given the matrix that represents the CNOT gate."
          },
          "_t_amp_00_00": {
            "meaning": "This is the amplitude of this operation transforming the state <code>00</code> to <code>00</code>."
          },
          "_t_amp_00_01": {
            "meaning": "This is the amplitude of this operation transforming the state <code>00</code> to <code>01</code>."
          },
          "_t_amp_00_10": {
            "meaning": "This is the amplitude of this operation transforming the state <code>00</code> to <code>10</code>."
          },
          "_t_amp_00_11": {
            "meaning": "This is the amplitude of this operation transforming the state <code>00</code> to <code>11</code>."
          },
          "_t_amp_01_00": {
            "meaning": "This is the amplitude of this operation transforming the state <code>01</code> to <code>00</code>."
          },
          "_t_amp_01_01": {
            "meaning": "This is the amplitude of this operation transforming the state <code>01</code> to <code>01</code>."
          },
          "_t_amp_01_10": {
            "meaning": "This is the amplitude of this operation transforming the state <code>01</code> to <code>10</code>."
          },
          "_t_amp_01_11": {
            "meaning": "This is the amplitude of this operation transforming the state <code>01</code> to <code>11</code>."
          },
          "_t_amp_0_0": {
            "meaning": "This is proportional to the transition amplitude of this operation transforming the state <code>0</code> to <code>0</code>."
          },
          "_t_amp_0_1": {
            "meaning": "This is proportional to the transition amplitude of this operation transforming the state <code>0</code> to <code>1</code>."
          },
          "_t_amp_10_00": {
            "meaning": "This is the amplitude of this operation transforming the state <code>10</code> to <code>00</code>."
          },
          "_t_amp_10_01": {
            "meaning": "This is the amplitude of this operation transforming the state <code>10</code> to <code>01</code>."
          },
          "_t_amp_10_10": {
            "meaning": "This is the amplitude of this operation transforming the state <code>10</code> to <code>10</code>."
          },
          "_t_amp_10_11": {
            "meaning": "This is the amplitude of this operation transforming the state <code>10</code> to <code>11</code>."
          },
          "_t_amp_11_00": {
            "meaning": "This is the amplitude of this operation transforming the state <code>11</code> to <code>00</code>."
          },
          "_t_amp_11_01": {
            "meaning": "This is the amplitude of this operation transforming the state <code>11</code> to <code>01</code>."
          },
          "_t_amp_11_10": {
            "meaning": "This is the amplitude of this operation transforming the state <code>11</code> to <code>10</code>."
          },
          "_t_amp_11_11": {
            "meaning": "This is the amplitude of this operation transforming the state <code>11</code> to <code>11</code>."
          },
          "_t_amp_1_0": {
            "meaning": "This is proportional to the transition amplitude of this operation transforming the state <code>1</code> to <code>0</code>."
          },
          "_t_amp_1_1": {
            "meaning": "This is proportional to the transition amplitude of this operation transforming the state <code>1</code> to <code>1</code>."
          },
          "dot": {
            "meaning": "This dot is a shorthand for multiplication."
          },
          "u-gate": {
            "meaning": "'U' is generally used to represent quantum gates, especially if the gate doesn't have a more specific name. It stands for 'unitary' which is something we'll learn about further down on this page."
          }
        },
        "gloss": {
          "cnot": {
            "text": "The CNOT gate toggles the state of a 'target' qubit if the state of a 'control' qubit is 1.",
            "title": "CNOT"
          }
        }
      },
      "source": [
        "$$ \\cssId{u-gate}{U} = \\begin{bmatrix} \\class{ *t_amp_00_00}{t* {00\\to 00}} &amp; \\class{ *t_amp_01_00}{t* {01\\to 00}} &amp; \\class { *t_amp_10_00}{t* {10\\to 00}} &amp; \\class{ *t_amp_11_00}{t* {11\\to 00}} \\ \\class{ *t_amp_00_01}{t* {00\\to 01}} &amp; \\class{ *t_amp_01_01}{t* {01\\a 01}} &amp; \\class{ *t_amp_10_01}{t* {10\\a 01}} &amp; \\class{ *t_amp_11_01}{t* {11\\a 01}} \\ \\class{ *t_amp_00_10}{t* {00\\a 10 }} &amp; \\class{ *t_amp_01_10}{t* {01\\to 10}} &amp; \\class{ *t_amp_10_10}{t* {10\\to 10}} &amp; \\class{ *t_amp_11_10}{t* {11\\to 10}} \\ \\class { *t_amp_00_11}{t* {00\\to 11}} &amp; \\class{ *t_amp_01_11}{t* {01\\to 11}} &amp; \\class{ *t_amp_10_11}{t* {10\\to 11}} &amp; \\class{ *t_amp_11_11}{t* {11\\a 11}} \\ \\end{bmatriz} $$\n",
        "\n",
        "Por ejemplo, aquí está la matriz que representa la operación CNOT que vimos en los átomos de computación:\n",
        "\n",
        "$$ \\cssId{_cnot-gate}{\\text{CNOT}} = \\begin{bmatrix} \\class{_t_amp_00_00}{1} &amp; \\class{_t_amp_01_00}{0} &amp; \\class{_t_amp_10_00}{0} &amp; \\ clase{_t_amp_11_00}{0} \\ \\class{_t_amp_00_01}{0} &amp; \\class{_t_amp_01_01}{0} &amp; \\class{_t_amp_10_01}{0} &amp; \\class{_t_amp_11_01}{1} \\ \\class{_t_amp_00_10}{ 0} &amp; \\class{_t_amp_01_10}{0} &amp; \\class{_t_amp_10_10}{1} &amp; \\class{_t_amp_11_10}{0} \\ \\class{_t_amp_00_11}{0} &amp; \\class{_t_amp_01_11}{1} &amp; \\class {_t_amp_10_11}{0} &amp; \\class{_t_amp_11_11}{0} \\ \\end{bmatriz} $$\n",
        "\n",
        "<!-- ::: q-block.exercise -->\n",
        "\n",
        "### Test rápido\n",
        "\n",
        "<!-- ::: q-quiz(goal=\"intro-maths-0\") -->\n",
        "\n",
        "<!-- ::: .question -->\n",
        "\n",
        "¿Cuál es la amplitud de transición de la operación CNOT (como se muestra arriba) que transforma el estado $|10\\rangle$ en $|01\\rangle$?\n",
        "\n",
        "<!-- ::: -->\n",
        "\n",
        "<!-- ::: .option -->\n",
        "\n",
        "1. $1$\n",
        "\n",
        "<!-- ::: -->\n",
        "\n",
        "<!-- ::: .option(correct) -->\n",
        "\n",
        "1. $0$\n",
        "\n",
        "<!-- ::: -->\n",
        "\n",
        "<!-- ::: .option -->\n",
        "\n",
        "1. $\\begin{bmatrix} 1 &amp; 0 &amp; 0 &amp; 0\\end{bmatrix}$\n",
        "\n",
        "<!-- ::: -->\n",
        "\n",
        "<!-- ::: .option -->\n",
        "\n",
        "1. $\\begin{bmatriz} 0 \\ 0 \\ 1 \\ 0\\end{bmatriz}$\n",
        "\n",
        "<!-- ::: -->\n",
        "\n",
        "<!-- ::: -->\n",
        "\n",
        "<!-- ::: -->\n",
        "\n",
        "Y aquí está la matriz de la puerta H que vimos en la página anterior:\n",
        "\n",
        "$$ H = \\sqrt{\\tfrac{1}{2}} \\begin{bmatrix} \\class{_t_amp_0_0}{1} &amp; \\class{_t_amp_1_0}{1} \\ \\class{_t_amp_0_1}{1} &amp; \\class {_t_amp_1_1}{-1} \\ \\end{bmatriz} $$\n",
        "\n",
        "(usamos la misma regla para multiplicar una matriz por un escalar como lo hacemos con los vectores). Y cuando queremos ver qué efecto tendrá una operación en algunos qubits, multiplicamos cada amplitud de transición por la amplitud de cada estado en nuestro vector de estado de entrada y luego sumamos las amplitudes de cada estado para obtener nuestro vector de estado de salida. Esto es exactamente lo mismo que multiplicar a lo largo de cada rama en un árbol de probabilidad (o amplitud) y sumar las probabilidades totales (o amplitudes) al final.\n",
        "\n",
        "Para cualquier matemático en la audiencia, esto es solo una multiplicación de matrices estándar.\n",
        "\n",
        "$$ H|0\\rangle = \\sqrt{\\tfrac{1}{2}} \\begin{bmatrix} \\class{_t_amp_0_0}{1} &amp; \\class{_t_amp_1_0}{ 1} \\ \\class{_t_amp_0_1}{1 } &amp; \\class{_t_amp_1_1}{-1} \\ \\end{bmatrix} \\begin{bmatrix} \\class{_sq-amp0}{1} \\ \\class{_sq-amp1}{0} \\ \\end{bmatrix} = \\sqrt{\\tfrac{1}{2}} \\begin{bmatrix} (1 \\class{dot}{\\cdot} 1) &amp; + &amp; (1 \\class{dot}{\\cdot} 0) \\ (1 \\ clase{punto}{\\cdot} 1) &amp; + &amp; (-1 \\class{punto}{\\cdot} 0) \\ \\end{bmatrix} = \\sqrt{\\tfrac{1}{2}} \\begin{bmatrix } \\class{_sq-amp0}{1} \\ \\class{_sq-amp1}{1} \\ \\end{bmatrix} $$\n",
        "\n",
        "![imagen que muestra cómo la puerta H transforma el estado |0> en el estado |+>](images/quantum-states/h-gate.svg)"
      ]
    },
    {
      "cell_type": "markdown",
      "metadata": {
      },
      "source": [
        "## Reglas de operaciones cuánticas\n",
        "\n",
        "De la misma manera que no todo vector es un vector de estado válido, no toda matriz es una operación cuántica válida. Para que una matriz tenga sentido como una operación real, debe mantener la probabilidad total de los estados de salida igual a 1. Entonces, por ejemplo, esto no podría ser una operación real:\n",
        "\n",
        "$$ \\begin{bmatrix} \\class{_t_amp_0_0}{1} &amp; \\class{_t_amp_1_0}{0} \\ \\class{_t_amp_0_1}{1} &amp; \\class{_t_amp_1_1}{0} \\ \\end{bmatrix} $$\n",
        "\n",
        "Porque si actúa sobre el estado $|0\\rangle$ obtenemos:\n",
        "\n",
        "# $$ \\begin{bmatrix} \\class{_t_amp_0_0}{1} &amp; \\class{_t_amp_1_0}{0} \\ \\class{_t_amp_0_1}{1} &amp; \\class{_t_amp_1_1}{0} \\ \\end{bmatrix}\\begin {bmatriz} 1 \\ 0 \\end{bmatriz}\n",
        "\n",
        "\\begin{bmatrix} \\class{_sq-amp0}{1} \\ \\class{_sq-amp1}{1} \\end{bmatrix} $$\n",
        "\n",
        "y las probabilidades totales suman dos, lo cual no tiene ningún sentido. Alternativamente, si actuara sobre el estado $|1\\rangle$, entonces las probabilidades totales sumarían cero, lo que tampoco tiene sentido. Para preservar la probabilidad total en todos los casos, nuestras operaciones deben ser reversibles. Esto significa que podemos realizar nuestras puertas cuánticas al revés para 'deshacerlas' (recordando invertir las rotaciones) y quedarnos con el estado con el que comenzamos. Decimos que las matrices con esta propiedad son *unitarias* . A menudo verá puertas cuánticas denominadas 'unitarias' o 'puertas unitarias'."
      ]
    }
  ],
  "metadata": {
    "celltoolbar": "Edit Metadata",
    "kernelspec": {
      "display_name": "Python 3 (ipykernel)",
      "language": "python",
      "name": "python3"
    },
    "language_info": {
      "codemirror_mode": {
        "name": "ipython",
        "version": 3
      },
      "file_extension": ".py",
      "mimetype": "text/x-python",
      "name": "python",
      "nbconvert_exporter": "python",
      "pygments_lexer": "ipython3",
      "version": "3.9.8"
    }
  },
  "nbformat": 4,
  "nbformat_minor": 4
}
