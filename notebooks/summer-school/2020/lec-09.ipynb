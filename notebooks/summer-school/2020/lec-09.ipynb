{
 "cells": [
  {
   "cell_type": "markdown",
   "id": "155cc40c",
   "metadata": {},
   "source": [
    "# Careers in Quantum Computing\n",
    "\n",
    "<div class=\"youtube-wrapper\"><iframe src=\"https://www.youtube.com/embed/7dfw8k2p1to\" title=\"YouTube video player\" frameborder=\"0\" allow=\"accelerometer; autoplay; clipboard-write; encrypted-media; gyroscope; picture-in-picture\" allowfullscreen></iframe></div>\n",
    "\n"
   ]
  }
 ],
 "metadata": {},
 "nbformat": 4,
 "nbformat_minor": 5
}
