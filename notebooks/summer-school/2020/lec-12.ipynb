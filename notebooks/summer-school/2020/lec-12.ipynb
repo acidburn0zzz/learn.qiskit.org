{
 "cells": [
  {
   "cell_type": "markdown",
   "id": "7fec30a4",
   "metadata": {},
   "source": [
    "# Quantum Error Correction using Repetition Codes Part 1\n",
    "\n",
    "<div class=\"youtube-wrapper\"><iframe src=\"https://www.youtube.com/embed/ZY8PddknCos\" title=\"YouTube video player\" frameborder=\"0\" allow=\"accelerometer; autoplay; clipboard-write; encrypted-media; gyroscope; picture-in-picture\" allowfullscreen></iframe></div>\n",
    "\n",
    "Lectures 13 – 15 introduce quantum error correction using repetition and surface codes. The lectures show the kinds of errors that can happen during a quantum computation, and methods to do quantum computation in the presence of these errors.\n",
    "\n",
    " - Download the lecture notes [here](https://github.com/qiskit-community/intro-to-quantum-computing-and-quantum-hardware/blob/master/lectures/introqcqh-lecture-notes-5.pdf?raw=true)\n"
   ]
  }
 ],
 "metadata": {},
 "nbformat": 4,
 "nbformat_minor": 5
}
