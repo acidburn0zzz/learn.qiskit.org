{
 "cells": [
  {
   "cell_type": "markdown",
   "id": "31eb7992",
   "metadata": {},
   "source": [
    "# Writing and Running Quantum Programs \n",
    "\n",
    "Lectures 1 – 6 provide an introduction to quantum computing and quantum algorithms using quantum circuits. The emphasis here is on understanding how to work with quantum states, and operate on them using quantum circuits.\n",
    "\n",
    " - Download the lecture notes [here](https://github.com/qiskit-community/intro-to-quantum-computing-and-quantum-hardware/blob/master/lectures/introqcqh-lecture-notes-2.pdf?raw=true)\n",
    " - Download the lab notebook (and solutions) for the last three lectures [here](https://github.com/qiskit-community/intro-to-quantum-computing-and-quantum-hardware/blob/master/labs/introqcqh-lab-2.zip?raw=true)\n",
    "\n",
    "<div class=\"youtube-wrapper\"><iframe src=\"https://www.youtube.com/embed/qrYVO9-dxLE\" title=\"YouTube video player\" frameborder=\"0\" allow=\"accelerometer; autoplay; clipboard-write; encrypted-media; gyroscope; picture-in-picture\" allowfullscreen></iframe></div>\n",
    "\n",
    "<div class=\"youtube-wrapper\"><iframe src=\"https://www.youtube.com/embed/iJX794qJIpY\" title=\"YouTube video player\" frameborder=\"0\" allow=\"accelerometer; autoplay; clipboard-write; encrypted-media; gyroscope; picture-in-picture\" allowfullscreen></iframe></div>\n",
    "\n",
    "<div class=\"youtube-wrapper\"><iframe src=\"https://www.youtube.com/embed/enYP9TaDeJI\" title=\"YouTube video player\" frameborder=\"0\" allow=\"accelerometer; autoplay; clipboard-write; encrypted-media; gyroscope; picture-in-picture\" allowfullscreen></iframe></div>\n",
    "\n"
   ]
  }
 ],
 "metadata": {},
 "nbformat": 4,
 "nbformat_minor": 5
}
