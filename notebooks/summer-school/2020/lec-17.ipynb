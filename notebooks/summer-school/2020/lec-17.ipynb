{
 "cells": [
  {
   "cell_type": "markdown",
   "id": "5732cf17",
   "metadata": {},
   "source": [
    "# Superconducting Qubits I: Quantizing a Harmonic Oscillator, Josephson Junctions Part 3\n",
    "\n",
    "<div class=\"youtube-wrapper\"><iframe src=\"https://www.youtube.com/embed/hGBAz63NIH8\" title=\"YouTube video player\" frameborder=\"0\" allow=\"accelerometer; autoplay; clipboard-write; encrypted-media; gyroscope; picture-in-picture\" allowfullscreen></iframe></div>\n",
    "\n",
    "Lectures 16 – 21 introduce the hardware used for quantum computation, with emphasis on superconducting qubits. The first three lectures discuss how to build a superconducting transmon quantum bit (qubit) out of an anharmonic oscillator using Josephson junctions, while the next three lectures focus on coupling to the qubit in a circuit quantum electrodynamics architecture.\n",
    "\n",
    " - Download the lecture notes [here](https://github.com/qiskit-community/intro-to-quantum-computing-and-quantum-hardware/blob/master/lectures/introqcqh-lecture-notes-6.pdf?raw=true)\n",
    " - Download the lab notebook (and solutions) for the last three lectures [here](https://github.com/qiskit-community/intro-to-quantum-computing-and-quantum-hardware/blob/master/labs/introqcqh-lab-6.zip?raw=true)\n",
    "\n"
   ]
  }
 ],
 "metadata": {},
 "nbformat": 4,
 "nbformat_minor": 5
}
