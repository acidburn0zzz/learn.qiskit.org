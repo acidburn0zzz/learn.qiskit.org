{
  "cells": [
    {
      "cell_type": "markdown",
      "metadata": {
        "tags": [
          "remove_cell"
        ]
      },
      "source": [
        "# Демонстрация виджетов"
      ]
    },
    {
      "cell_type": "markdown",
      "metadata": {
      },
      "source": [
        "Помимо рабочего кода, с которым читатели могут поэкспериментировать, учебник также содержит ряд виджетов, помогающих объяснять определенные концепции. Эта страница содержит выборку из них в качестве указателя. Запустите каждую ячейку, чтобы взаимодействовать с виджетом.\n",
        "\n",
        "**ПРИМЕЧАНИЕ.** Вам потребуется включить интерактивность, нажав «Попробовать» в левом нижнем углу ячейки кода или просмотрев эту страницу в [IBM Quantum Experience](https://quantum-computing.ibm.com/jupyter/user/qiskit-textbook/content/widgets-index.ipynb) .\n",
        "\n",
        "### Интерактивный код\n",
        "\n",
        "Важнейшим интерактивным элементом учебника является возможность изменять и экспериментировать с кодом. Это возможно непосредственно на веб-странице учебника, но читатели также могут просматривать учебник в виде блокнотов Jupyter, где они могут добавлять дополнительные ячейки и сохранять свои изменения. Интерактивный код Python также позволяет использовать виджеты через [ipywidgets](https://ipywidgets.readthedocs.io/en/latest/) , а остальная часть этой страницы посвящена демонстрации некоторых виджетов, предоставляемых учебником Qiskit."
      ]
    },
    {
      "cell_type": "code",
      "execution_count": null,
      "metadata": {
      },
      "outputs": [

      ],
      "source": [
        "# Click 'try' then 'run' to see the output\n",
        "print(\"This is code works!\")"
      ]
    },
    {
      "cell_type": "markdown",
      "metadata": {
      },
      "source": [
        "### Демонстрация ворот\n",
        "\n",
        "Этот виджет показывает влияние ряда вентилей на кубит, проиллюстрированных через сферу Блоха. Он часто используется в [Single Qubit Gates](https://qiskit.org/textbook/ch-states/single-qubit-gates.html) ."
      ]
    },
    {
      "cell_type": "code",
      "execution_count": 1,
      "metadata": {
      },
      "outputs": [
        {
          "data": {
            "application/vnd.jupyter.widget-view+json": {
              "model_id": "eb11a5aee6da420faac24b1725f1ae04",
              "version_major": 2,
              "version_minor": 0
            },
            "text/plain": [
              "VBox(children=(HBox(children=(Button(description='I', layout=Layout(height='3em', width='3em'), style=ButtonSt…"
            ]
          },
          "metadata": {
          },
          "output_type": "display_data"
        },
        {
          "data": {
            "application/vnd.jupyter.widget-view+json": {
              "model_id": "dd3288a303f841be8c01f38c874ac7c2",
              "version_major": 2,
              "version_minor": 0
            },
            "text/plain": [
              "Image(value=b'\\x89PNG\\r\\n\\x1a\\n\\x00\\x00\\x00\\rIHDR\\x00\\x00\\x01 \\x00\\x00\\x01 \\x08\\x06\\x00\\x00\\x00\\x14\\x83\\xae\\x8…"
            ]
          },
          "metadata": {
          },
          "output_type": "display_data"
        }
      ],
      "source": [
        "from qiskit_textbook.widgets import gate_demo\n",
        "gate_demo()"
      ]
    },
    {
      "cell_type": "markdown",
      "metadata": {
      },
      "source": [
        "### Двоичная демонстрация\n",
        "\n",
        "Этот простой виджет позволяет читателю взаимодействовать с двоичным числом. Его можно найти в [книге «Атомы вычислений»](https://qiskit.org/textbook/ch-states/atoms-computation.html) ."
      ]
    },
    {
      "cell_type": "code",
      "execution_count": 2,
      "metadata": {
      },
      "outputs": [
        {
          "data": {
            "application/vnd.jupyter.widget-view+json": {
              "model_id": "9adc0a1d89d54b82a6cc154c529decda",
              "version_major": 2,
              "version_minor": 0
            },
            "text/plain": [
              "VBox(children=(Label(value='Toggle the bits below to change the binary number.'), Label(value='Think of a numb…"
            ]
          },
          "metadata": {
          },
          "output_type": "display_data"
        },
        {
          "data": {
            "application/vnd.jupyter.widget-view+json": {
              "model_id": "824fc6d4ed5542acaacda36473b502cd",
              "version_major": 2,
              "version_minor": 0
            },
            "text/plain": [
              "HTML(value='<pre>Binary   Decimal\\n 00000 = 0</pre>')"
            ]
          },
          "metadata": {
          },
          "output_type": "display_data"
        }
      ],
      "source": [
        "from qiskit_textbook.widgets import binary_widget\n",
        "binary_widget(nbits=5)"
      ]
    },
    {
      "cell_type": "markdown",
      "metadata": {
      },
      "source": [
        "### Виджет масштабируемой цепи\n",
        "\n",
        "При работе со схемами, подобными описанным в [главе «Квантовое преобразование Фурье](https://qiskit.org/textbook/ch-algorithms/quantum-fourier-transform.html) », часто бывает полезно посмотреть, как они масштабируются для разного количества кубитов. Если наша функция принимает схему ( `QuantumCircuit` ) и количество кубитов ( `int` ) в качестве позиционных входных данных, мы можем увидеть, как она масштабируется, используя виджет ниже. Попробуйте изменить код внутри этих функций и перезапустите ячейку."
      ]
    },
    {
      "cell_type": "code",
      "execution_count": 3,
      "metadata": {
      },
      "outputs": [
        {
          "data": {
            "application/vnd.jupyter.widget-view+json": {
              "model_id": "f6986099fb0d4772bc5253a03df84dce",
              "version_major": 2,
              "version_minor": 0
            },
            "text/plain": [
              "IntSlider(value=4, max=8, min=1)"
            ]
          },
          "metadata": {
          },
          "output_type": "display_data"
        },
        {
          "data": {
            "application/vnd.jupyter.widget-view+json": {
              "model_id": "ebb44e520dd24fdda8655b2c09ccae4e",
              "version_major": 2,
              "version_minor": 0
            },
            "text/plain": [
              "Image(value=b'\\x89PNG\\r\\n\\x1a\\n\\x00\\x00\\x00\\rIHDR\\x00\\x00\\x03H\\x00\\x00\\x01\\x08\\x08\\x06\\x00\\x00\\x00e \\xd4\\x9e\\x…"
            ]
          },
          "metadata": {
          },
          "output_type": "display_data"
        }
      ],
      "source": [
        "from qiskit_textbook.widgets import scalable_circuit\n",
        "from numpy import pi\n",
        "\n",
        "def qft_rotations(circuit, n):\n",
        "    \"\"\"Performs qft on the first n qubits in circuit (without swaps)\"\"\"\n",
        "    if n == 0:\n",
        "        return circuit\n",
        "    n -= 1\n",
        "    circuit.h(n)\n",
        "    for qubit in range(n):\n",
        "        circuit.cp(pi/2**(n-qubit), qubit, n)\n",
        "    # At the end of our function, we call the same function again on\n",
        "    # the next qubits (we reduced n by one earlier in the function)\n",
        "    qft_rotations(circuit, n)\n",
        "\n",
        "def swap_qubits(circuit, n):\n",
        "    \"\"\"Reverse the order of qubits\"\"\"\n",
        "    for qubit in range(n//2):\n",
        "        circuit.swap(qubit, n-qubit-1)\n",
        "    return circuit\n",
        "\n",
        "def qft(circuit, n):\n",
        "    \"\"\"QFT on the first n qubits in circuit\"\"\"\n",
        "    qft_rotations(circuit, n)\n",
        "    swap_qubits(circuit, n)\n",
        "    return circuit\n",
        "\n",
        "scalable_circuit(qft)"
      ]
    },
    {
      "cell_type": "markdown",
      "metadata": {
      },
      "source": [
        "### Виджет Бернштейна-Вазирани\n",
        "\n",
        "С помощью этого виджета читатель может следить за математикой на примере [алгоритма Бернштейна-Вазирани](https://qiskit.org/textbook/ch-algorithms/bernstein-vazirani.html) . Нажимайте кнопки, чтобы применить различные шаги алгоритма. Первый аргумент устанавливает количество кубитов, а второй устанавливает скрытую двоичную строку, после чего перезапускает ячейку. Вы также можете раскрыть содержимое оракула, установив `hide_oracle=False` и повторно запустив ячейку."
      ]
    },
    {
      "cell_type": "code",
      "execution_count": 4,
      "metadata": {
      },
      "outputs": [
        {
          "data": {
            "application/vnd.jupyter.widget-view+json": {
              "model_id": "304a42ca667b46d981bc7322a63c920d",
              "version_major": 2,
              "version_minor": 0
            },
            "text/plain": [
              "HBox(children=(Button(description='H⊗ⁿ', style=ButtonStyle()), Button(description='Oracle', style=ButtonStyle(…"
            ]
          },
          "metadata": {
          },
          "output_type": "display_data"
        },
        {
          "data": {
            "application/vnd.jupyter.widget-view+json": {
              "model_id": "0e6ab71983424081a163c94c26c97030",
              "version_major": 2,
              "version_minor": 0
            },
            "text/plain": [
              "HTMLMath(value='$$ |00\\\\rangle = |00\\\\rangle $$')"
            ]
          },
          "metadata": {
          },
          "output_type": "display_data"
        },
        {
          "data": {
            "application/vnd.jupyter.widget-view+json": {
              "model_id": "b826fd450edd413689f5bc578e409d8a",
              "version_major": 2,
              "version_minor": 0
            },
            "text/plain": [
              "Image(value=b'\\x89PNG\\r\\n\\x1a\\n\\x00\\x00\\x00\\rIHDR\\x00\\x00\\x01*\\x00\\x00\\x00\\xcc\\x08\\x06\\x00\\x00\\x00\\xc4P\\xee\\x0…"
            ]
          },
          "metadata": {
          },
          "output_type": "display_data"
        }
      ],
      "source": [
        "from qiskit_textbook.widgets import bv_widget\n",
        "bv_widget(2, \"11\", hide_oracle=True)"
      ]
    },
    {
      "cell_type": "markdown",
      "metadata": {
      },
      "source": [
        "### Виджет Deutsch-Joza\n",
        "\n",
        "Подобно виджету Бернштейна-Вазирани, с помощью виджета Дойча-Йоза читатель может следить за математикой через экземпляр [алгоритма Дойча-Йоза](https://qiskit.org/textbook/ch-algorithms/deutsch-josza.html) . Нажимайте кнопки, чтобы применить различные шаги алгоритма. `case` может быть «сбалансированным» или «постоянным», а `size` может быть «маленьким» или «большим». Повторно запустить ячейку для случайно выбранного оракула. Вы также можете раскрыть содержимое оракула, установив `hide_oracle=False` и повторно запустив ячейку."
      ]
    },
    {
      "cell_type": "code",
      "execution_count": 5,
      "metadata": {
      },
      "outputs": [
        {
          "data": {
            "application/vnd.jupyter.widget-view+json": {
              "model_id": "a5e438f908b2473393f0a7a9c9cd797e",
              "version_major": 2,
              "version_minor": 0
            },
            "text/plain": [
              "HBox(children=(Button(description='H⊗ⁿ', style=ButtonStyle()), Button(description='Oracle', style=ButtonStyle(…"
            ]
          },
          "metadata": {
          },
          "output_type": "display_data"
        },
        {
          "data": {
            "application/vnd.jupyter.widget-view+json": {
              "model_id": "673df635752040c397052b311517126d",
              "version_major": 2,
              "version_minor": 0
            },
            "text/plain": [
              "HTMLMath(value='$$ |0000\\\\rangle = |0000\\\\rangle $$')"
            ]
          },
          "metadata": {
          },
          "output_type": "display_data"
        },
        {
          "data": {
            "application/vnd.jupyter.widget-view+json": {
              "model_id": "bf8f9d92ec4247adab4861ac52922e23",
              "version_major": 2,
              "version_minor": 0
            },
            "text/plain": [
              "Image(value=b'\\x89PNG\\r\\n\\x1a\\n\\x00\\x00\\x00\\rIHDR\\x00\\x00\\x01*\\x00\\x00\\x01E\\x08\\x06\\x00\\x00\\x00[\\x98\\xa0\\xa0\\x…"
            ]
          },
          "metadata": {
          },
          "output_type": "display_data"
        }
      ],
      "source": [
        "from qiskit_textbook.widgets import dj_widget\n",
        "dj_widget(size=\"large\", case=\"balanced\", hide_oracle=True)"
      ]
    },
    {
      "cell_type": "code",
      "execution_count": null,
      "metadata": {
        "id": "gl_ACKldDn8ss"
      },
      "outputs": [

      ],
      "source": [

      ]
    }
  ],
  "metadata": {
    "kernelspec": {
      "display_name": "Python 3",
      "language": "python",
      "name": "python3"
    },
    "language_info": {
      "codemirror_mode": {
        "name": "ipython",
        "version": 3
      },
      "file_extension": ".py",
      "mimetype": "text/x-python",
      "name": "python",
      "nbconvert_exporter": "python",
      "pygments_lexer": "ipython3",
      "version": "3.7.7"
    }
  },
  "nbformat": 4,
  "nbformat_minor": 4
}
