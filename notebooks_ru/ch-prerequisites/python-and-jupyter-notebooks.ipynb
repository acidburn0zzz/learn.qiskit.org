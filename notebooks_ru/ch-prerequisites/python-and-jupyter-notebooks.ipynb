{
  "cells": [
    {
      "cell_type": "markdown",
      "metadata": {
        "tags": [
          "remove_cell"
        ]
      },
      "source": [
        "# Введение в блокноты Python и Jupyter"
      ]
    },
    {
      "cell_type": "markdown",
      "metadata": {
      },
      "source": [
        "Python — это язык программирования, который не нужно компилировать. Вы можете просто запускать его построчно (именно так мы можем использовать его в блокноте). Поэтому, если вы новичок в программировании, Python — отличное место для начала. Текущая версия — Python 3, которую мы будем здесь использовать.\n",
        "\n",
        "Один из способов написания кода на Python — использовать блокнот Jupyter. Это, пожалуй, лучший способ совместить программирование, текст и изображения. В блокноте все разложено по клеточкам. Текстовые ячейки и ячейки кода являются наиболее распространенными. Если вы просматриваете этот раздел как блокнот Jupyter, текст, который вы сейчас читаете, находится в текстовой ячейке. Кодовую ячейку можно найти чуть ниже.\n",
        "\n",
        "Чтобы запустить содержимое ячейки кода, вы можете щелкнуть по ней и нажать Shift + Enter. Или, если слева есть маленькая стрелка, вы можете нажать на нее."
      ]
    },
    {
      "cell_type": "code",
      "execution_count": 1,
      "metadata": {
      },
      "outputs": [
        {
          "data": {
            "text/plain": [
              "2"
            ]
          },
          "execution_count": 1,
          "metadata": {
          },
          "output_type": "execute_result"
        }
      ],
      "source": [
        "1 + 1"
      ]
    },
    {
      "cell_type": "markdown",
      "metadata": {
      },
      "source": [
        "Если вы просматриваете этот раздел как блокнот Jupyter, выполняйте каждую из ячеек кода по мере чтения."
      ]
    },
    {
      "cell_type": "code",
      "execution_count": 2,
      "metadata": {
      },
      "outputs": [
        {
          "data": {
            "text/plain": [
              "1.5"
            ]
          },
          "execution_count": 2,
          "metadata": {
          },
          "output_type": "execute_result"
        }
      ],
      "source": [
        "a = 1\n",
        "b = 0.5\n",
        "a + b"
      ]
    },
    {
      "cell_type": "markdown",
      "metadata": {
      },
      "source": [
        "Выше мы создали две переменные, которые назвали `a` и `b` , и присвоили им значения. Потом мы их добавили. Простая арифметика, подобная этой, довольно проста в Python."
      ]
    },
    {
      "cell_type": "markdown",
      "metadata": {
      },
      "source": [
        "Переменные в Python бывают разных форм. Ниже приведены некоторые примеры."
      ]
    },
    {
      "cell_type": "code",
      "execution_count": 3,
      "metadata": {
      },
      "outputs": [

      ],
      "source": [
        "an_integer = 42 # Just an integer\n",
        "a_float = 0.1 # A non-integer number, up to a fixed precision\n",
        "a_boolean = True # A value that can be True or False\n",
        "a_string = '''just enclose text between two 's, or two \"s, or do what we did for this string''' # Text\n",
        "none_of_the_above = None # The absence of any actual value or variable type"
      ]
    },
    {
      "cell_type": "markdown",
      "metadata": {
      },
      "source": [
        "Помимо чисел, мы можем использовать еще одну структуру данных — *список* ."
      ]
    },
    {
      "cell_type": "code",
      "execution_count": 4,
      "metadata": {
      },
      "outputs": [

      ],
      "source": [
        "a_list = [0,1,2,3]"
      ]
    },
    {
      "cell_type": "markdown",
      "metadata": {
      },
      "source": [
        "Списки в Python могут содержать любую смесь типов переменных."
      ]
    },
    {
      "cell_type": "code",
      "execution_count": 5,
      "metadata": {
      },
      "outputs": [

      ],
      "source": [
        "a_list = [ 42, 0.5, True, [0,1], None, 'Banana' ]"
      ]
    },
    {
      "cell_type": "markdown",
      "metadata": {
      },
      "source": [
        "Списки индексируются с `0` в Python (в отличие от таких языков, как Fortran). Итак, вот как вы получаете доступ к `42` в начале приведенного выше списка."
      ]
    },
    {
      "cell_type": "code",
      "execution_count": 6,
      "metadata": {
      },
      "outputs": [
        {
          "data": {
            "text/plain": [
              "42"
            ]
          },
          "execution_count": 6,
          "metadata": {
          },
          "output_type": "execute_result"
        }
      ],
      "source": [
        "a_list[0]"
      ]
    },
    {
      "cell_type": "markdown",
      "metadata": {
      },
      "source": [
        "Аналогичной структурой данных является *кортеж* ."
      ]
    },
    {
      "cell_type": "code",
      "execution_count": 7,
      "metadata": {
      },
      "outputs": [
        {
          "data": {
            "text/plain": [
              "42"
            ]
          },
          "execution_count": 7,
          "metadata": {
          },
          "output_type": "execute_result"
        }
      ],
      "source": [
        "a_tuple = ( 42, 0.5, True, [0,1], None, 'Banana' )\n",
        "a_tuple[0]"
      ]
    },
    {
      "cell_type": "markdown",
      "metadata": {
      },
      "source": [
        "Основное различие между списком и кортежем заключается в том, что элементы списка можно изменять."
      ]
    },
    {
      "cell_type": "code",
      "execution_count": 8,
      "metadata": {
      },
      "outputs": [
        {
          "name": "stdout",
          "output_type": "stream",
          "text": [
            "[42, 0.5, True, [0, 1], None, 'apple']\n"
          ]
        }
      ],
      "source": [
        "a_list[5] = 'apple'\n",
        "\n",
        "print(a_list)"
      ]
    },
    {
      "cell_type": "markdown",
      "metadata": {
      },
      "source": [
        "тогда как элементы кортежа не могут"
      ]
    },
    {
      "cell_type": "code",
      "execution_count": 9,
      "metadata": {
        "tags": [
          "raises-exception"
        ]
      },
      "outputs": [
        {
          "ename": "TypeError",
          "evalue": "'tuple' object does not support item assignment",
          "output_type": "error",
          "traceback": [
            "\u001b[0;31m---------------------------------------------------------------------------\u001b[0m",
            "\u001b[0;31mTypeError\u001b[0m                                 Traceback (most recent call last)",
            "\u001b[0;32m<ipython-input-9-42d08f1e5606>\u001b[0m in \u001b[0;36m<module>\u001b[0;34m\u001b[0m\n\u001b[0;32m----> 1\u001b[0;31m \u001b[0ma_tuple\u001b[0m\u001b[0;34m[\u001b[0m\u001b[0;36m5\u001b[0m\u001b[0;34m]\u001b[0m \u001b[0;34m=\u001b[0m \u001b[0;34m'apple'\u001b[0m\u001b[0;34m\u001b[0m\u001b[0;34m\u001b[0m\u001b[0m\n\u001b[0m",
            "\u001b[0;31mTypeError\u001b[0m: 'tuple' object does not support item assignment"
          ]
        }
      ],
      "source": [
        "a_tuple[5] = 'apple'"
      ]
    },
    {
      "cell_type": "markdown",
      "metadata": {
      },
      "source": [
        "Кроме того, мы можем добавить элемент в конец списка, чего нельзя сделать с кортежами."
      ]
    },
    {
      "cell_type": "code",
      "execution_count": 10,
      "metadata": {
      },
      "outputs": [
        {
          "name": "stdout",
          "output_type": "stream",
          "text": [
            "[42, 0.5, True, [0, 1], None, 'apple', 3.14]\n"
          ]
        }
      ],
      "source": [
        "a_list.append( 3.14 )\n",
        "\n",
        "print(a_list)"
      ]
    },
    {
      "cell_type": "markdown",
      "metadata": {
      },
      "source": [
        "Другой полезной структурой данных является *словарь* . Здесь хранится набор *значений* , каждое из которых помечено уникальным *ключом* .\n",
        "\n",
        "Значения могут быть любого типа данных. Ключи могут быть любыми достаточно простыми (целые числа, числа с плавающей запятой, логические значения, строки). Это не может быть список, но *может* быть кортеж."
      ]
    },
    {
      "cell_type": "code",
      "execution_count": 11,
      "metadata": {
      },
      "outputs": [

      ],
      "source": [
        "a_dict = { 1:'This is the value, for the key 1', 'This is the key for a value 1':1, False:':)', (0,1):256 }"
      ]
    },
    {
      "cell_type": "markdown",
      "metadata": {
      },
      "source": [
        "Доступ к значениям осуществляется с помощью ключей"
      ]
    },
    {
      "cell_type": "code",
      "execution_count": 12,
      "metadata": {
      },
      "outputs": [
        {
          "data": {
            "text/plain": [
              "1"
            ]
          },
          "execution_count": 12,
          "metadata": {
          },
          "output_type": "execute_result"
        }
      ],
      "source": [
        "a_dict['This is the key for a value 1']"
      ]
    },
    {
      "cell_type": "markdown",
      "metadata": {
      },
      "source": [
        "Новые пары ключ/значение можно добавить, просто указав новое значение для нового ключа."
      ]
    },
    {
      "cell_type": "code",
      "execution_count": 13,
      "metadata": {
      },
      "outputs": [

      ],
      "source": [
        "a_dict['new key'] = 'new_value'"
      ]
    },
    {
      "cell_type": "markdown",
      "metadata": {
      },
      "source": [
        "Для перебора диапазона чисел используется синтаксис"
      ]
    },
    {
      "cell_type": "code",
      "execution_count": 14,
      "metadata": {
      },
      "outputs": [
        {
          "name": "stdout",
          "output_type": "stream",
          "text": [
            "0\n",
            "1\n",
            "2\n",
            "3\n",
            "4\n"
          ]
        }
      ],
      "source": [
        "for j in range(5):\n",
        "    print(j)"
      ]
    },
    {
      "cell_type": "markdown",
      "metadata": {
      },
      "source": [
        "Обратите внимание, что он начинается с 0 (по умолчанию) и заканчивается на n-1 для `range(n)` ."
      ]
    },
    {
      "cell_type": "markdown",
      "metadata": {
      },
      "source": [
        "Вы также можете перебрать любой «итерируемый» объект, например списки."
      ]
    },
    {
      "cell_type": "code",
      "execution_count": 15,
      "metadata": {
      },
      "outputs": [
        {
          "name": "stdout",
          "output_type": "stream",
          "text": [
            "42\n",
            "0.5\n",
            "True\n",
            "[0, 1]\n",
            "None\n",
            "apple\n",
            "3.14\n"
          ]
        }
      ],
      "source": [
        "for j in a_list:\n",
        "    print(j)"
      ]
    },
    {
      "cell_type": "markdown",
      "metadata": {
      },
      "source": [
        "или словари"
      ]
    },
    {
      "cell_type": "code",
      "execution_count": 16,
      "metadata": {
      },
      "outputs": [
        {
          "name": "stdout",
          "output_type": "stream",
          "text": [
            "key = 1\n",
            "value = This is the value, for the key 1\n",
            "\n",
            "key = This is the key for a value 1\n",
            "value = 1\n",
            "\n",
            "key = False\n",
            "value = :)\n",
            "\n",
            "key = (0, 1)\n",
            "value = 256\n",
            "\n",
            "key = new key\n",
            "value = new_value\n",
            "\n"
          ]
        }
      ],
      "source": [
        "for key in a_dict:\n",
        "    value = a_dict[key]\n",
        "    print('key =',key)\n",
        "    print('value =',value)\n",
        "    print()"
      ]
    },
    {
      "cell_type": "markdown",
      "metadata": {
      },
      "source": [
        "Условные операторы выполняются с помощью `if` , `elif` и `else` со следующим синтаксисом."
      ]
    },
    {
      "cell_type": "code",
      "execution_count": 17,
      "metadata": {
      },
      "outputs": [
        {
          "name": "stdout",
          "output_type": "stream",
          "text": [
            "We have an apple!\n"
          ]
        }
      ],
      "source": [
        "if 'strawberry' in a_list:\n",
        "    print('We have a strawberry!')\n",
        "elif a_list[5]=='apple':\n",
        "    print('We have an apple!')\n",
        "else:\n",
        "    print('Not much fruit here!')"
      ]
    },
    {
      "cell_type": "markdown",
      "metadata": {
      },
      "source": [
        "Импорт пакетов выполняется с помощью такой строки, как"
      ]
    },
    {
      "cell_type": "code",
      "execution_count": 18,
      "metadata": {
      },
      "outputs": [

      ],
      "source": [
        "import numpy"
      ]
    },
    {
      "cell_type": "markdown",
      "metadata": {
      },
      "source": [
        "Пакет `numpy` важен для математики"
      ]
    },
    {
      "cell_type": "code",
      "execution_count": 19,
      "metadata": {
      },
      "outputs": [
        {
          "data": {
            "text/plain": [
              "1.0"
            ]
          },
          "execution_count": 19,
          "metadata": {
          },
          "output_type": "execute_result"
        }
      ],
      "source": [
        "numpy.sin( numpy.pi/2 )"
      ]
    },
    {
      "cell_type": "markdown",
      "metadata": {
      },
      "source": [
        "Мы должны написать `numpy.` перед каждой командой numpy, чтобы он знал, как найти эту команду, определенную в `numpy` . Чтобы сэкономить на письме, обычно используют"
      ]
    },
    {
      "cell_type": "code",
      "execution_count": 20,
      "metadata": {
      },
      "outputs": [
        {
          "data": {
            "text/plain": [
              "1.0"
            ]
          },
          "execution_count": 20,
          "metadata": {
          },
          "output_type": "execute_result"
        }
      ],
      "source": [
        "import numpy as np\n",
        "\n",
        "np.sin( np.pi/2 )"
      ]
    },
    {
      "cell_type": "markdown",
      "metadata": {
      },
      "source": [
        "Тогда вам нужно только сокращенное имя. Большинство людей используют `np` , но вы можете выбрать то, что вам нравится.\n",
        "\n",
        "Вы также можете вытащить все прямо из `numpy` с помощью"
      ]
    },
    {
      "cell_type": "code",
      "execution_count": 21,
      "metadata": {
      },
      "outputs": [

      ],
      "source": [
        "from numpy import *"
      ]
    },
    {
      "cell_type": "markdown",
      "metadata": {
      },
      "source": [
        "Затем вы можете использовать команды напрямую. Но это может привести к тому, что пакеты будут путаться друг с другом, поэтому используйте его с осторожностью."
      ]
    },
    {
      "cell_type": "code",
      "execution_count": 22,
      "metadata": {
      },
      "outputs": [
        {
          "data": {
            "text/plain": [
              "1.0"
            ]
          },
          "execution_count": 22,
          "metadata": {
          },
          "output_type": "execute_result"
        }
      ],
      "source": [
        "sin( pi/2 )"
      ]
    },
    {
      "cell_type": "markdown",
      "metadata": {
      },
      "source": [
        "Если вы хотите заниматься тригонометрией, линейной алгеброй и т. д., вы можете использовать `numpy` . Для построения используйте `matplotlib` . Для теории графов используйте `networkx` . Для квантовых вычислений используйте `qiskit` . Что бы вы ни захотели, вероятно, найдется пакет, который поможет вам это сделать."
      ]
    },
    {
      "cell_type": "markdown",
      "metadata": {
      },
      "source": [
        "В любом языке полезно знать, как создать функцию.\n",
        "\n",
        "Вот функция, имя которой было выбрано как `do_some_maths` , чьи входные данные названы `Input1` и `Input2` , а выходные данные названы `the_answer` ."
      ]
    },
    {
      "cell_type": "code",
      "execution_count": 23,
      "metadata": {
      },
      "outputs": [

      ],
      "source": [
        "def do_some_maths ( Input1, Input2 ):\n",
        "    the_answer = Input1 + Input2\n",
        "    return the_answer"
      ]
    },
    {
      "cell_type": "markdown",
      "metadata": {
      },
      "source": [
        "Он используется следующим образом"
      ]
    },
    {
      "cell_type": "code",
      "execution_count": 24,
      "metadata": {
      },
      "outputs": [
        {
          "name": "stdout",
          "output_type": "stream",
          "text": [
            "73\n"
          ]
        }
      ],
      "source": [
        "x = do_some_maths(1,72)\n",
        "print(x)"
      ]
    },
    {
      "cell_type": "markdown",
      "metadata": {
      },
      "source": [
        "Если вы передаете функции объект, и функция вызывает метод этого объекта для изменения своего состояния, эффект сохранится. Так что, если это все, что вы хотите сделать, вам не нужно ничего `return` . Например, давайте сделаем это с помощью метода `append` списка."
      ]
    },
    {
      "cell_type": "code",
      "execution_count": 25,
      "metadata": {
      },
      "outputs": [

      ],
      "source": [
        "def add_sausages ( input_list ):\n",
        "    if 'sausages' not in input_list:\n",
        "        input_list.append('sausages')"
      ]
    },
    {
      "cell_type": "code",
      "execution_count": 26,
      "metadata": {
      },
      "outputs": [
        {
          "name": "stdout",
          "output_type": "stream",
          "text": [
            "List before the function\n",
            "[42, 0.5, True, [0, 1], None, 'apple', 3.14]\n",
            "\n",
            "List after the function\n",
            "[42, 0.5, True, [0, 1], None, 'apple', 3.14, 'sausages']\n"
          ]
        }
      ],
      "source": [
        "print('List before the function')\n",
        "print(a_list)\n",
        "\n",
        "add_sausages(a_list) # function called without an output\n",
        "\n",
        "print('\\nList after the function')\n",
        "print(a_list)"
      ]
    },
    {
      "cell_type": "markdown",
      "metadata": {
      },
      "source": [
        "Случайность может быть сгенерирована с помощью пакета `random` ."
      ]
    },
    {
      "cell_type": "code",
      "execution_count": 27,
      "metadata": {
      },
      "outputs": [

      ],
      "source": [
        "import random"
      ]
    },
    {
      "cell_type": "code",
      "execution_count": 28,
      "metadata": {
      },
      "outputs": [
        {
          "name": "stdout",
          "output_type": "stream",
          "text": [
            "* Results from sample 1\n",
            "\n",
            "    Random number from 0 to 1: 0.9565207808448243\n",
            "\n",
            "    Random choice from our list: 3.14\n",
            "\n",
            "\n",
            "* Results from sample 2\n",
            "\n",
            "    Random number from 0 to 1: 0.2965136670559021\n",
            "\n",
            "    Random choice from our list: sausages\n",
            "\n",
            "\n",
            "* Results from sample 3\n",
            "\n",
            "    Random number from 0 to 1: 0.5742595097667611\n",
            "\n",
            "    Random choice from our list: 3.14\n",
            "\n",
            "\n",
            "* Results from sample 4\n",
            "\n",
            "    Random number from 0 to 1: 0.8530438802121619\n",
            "\n",
            "    Random choice from our list: True\n",
            "\n",
            "\n",
            "* Results from sample 5\n",
            "\n",
            "    Random number from 0 to 1: 0.1329354419675386\n",
            "\n",
            "    Random choice from our list: None\n",
            "\n",
            "\n"
          ]
        }
      ],
      "source": [
        "for j in range(5):\n",
        "    print('* Results from sample',j+1)\n",
        "    print('\\n    Random number from 0 to 1:', random.random() )\n",
        "    print(\"\\n    Random choice from our list:\", random.choice( a_list ) )\n",
        "    print('\\n')"
      ]
    },
    {
      "cell_type": "markdown",
      "metadata": {
      },
      "source": [
        "Это основы. Теперь все, что вам нужно, это поисковая система и интуиция, чтобы знать, кого стоит слушать на Stack Exchange. Тогда вы можете делать что угодно с Python. Ваш код может быть не самым «питоновским», но только питонисты действительно заботятся об этом."
      ]
    }
  ],
  "metadata": {
    "kernelspec": {
      "display_name": "Python 3",
      "language": "python",
      "name": "python3"
    },
    "language_info": {
      "codemirror_mode": {
        "name": "ipython",
        "version": 3
      },
      "file_extension": ".py",
      "mimetype": "text/x-python",
      "name": "python",
      "nbconvert_exporter": "python",
      "pygments_lexer": "ipython3",
      "version": "3.7.0"
    }
  },
  "nbformat": 4,
  "nbformat_minor": 2
}
