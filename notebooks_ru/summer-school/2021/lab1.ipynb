{
  "cells": [
    {
      "cell_type": "markdown",
      "metadata": {
      },
      "source": [
        "# Лабораторная работа 1: Операции и алгоритмы квантовых вычислений\n",
        "\n",
        "<div class=\"youtube-wrapper\">     <iframe src=\"https://www.youtube.com/embed/uI02dn7PsHI\" title=\"YouTube video player\" frameborder=\"0\" allow=\"accelerometer; autoplay; clipboard-write; encrypted-media; gyroscope; picture-in-picture\" allowfullscreen=\"\"></iframe> </div>\n",
        "\n",
        "- Скачать блокнот: <a href=\"/content/summer-school/2021/resources/lab-notebooks/lab-1.ipynb\">[en]</a> <a href=\"/content/summer-school/2021/resources/lab-notebooks/lab-1-ja.ipynb\">[ja]</a>\n",
        "\n",
        "В этой лабораторной работе вы узнаете, как создавать квантовые состояния и схемы, а также запускать простой квантовый алгоритм.\n",
        "\n",
        "Квантовые состояния и схемы:\n",
        "\n",
        "- Упражнение с оценкой 1-1: Бит-флип\n",
        "- Упражнение с оценкой 1–3: Минус-состояние\n",
        "- Упражнение с оценкой 1-31: Минус-состояние\n",
        "- Упражнение с оценкой 1–4. Комплексное состояние\n",
        "- Упражнение с оценкой 1-5: Состояние Белла\n",
        "- Упражнение с оценкой 1-6: состояние, подобное GHZ\n",
        "\n",
        "Алгоритм Дойча-Йожа:\n",
        "\n",
        "- Упражнение с оценкой 1-7: Классический Дойч-Йожа\n",
        "- Упражнение с оценкой 1-8: Quantum Deutsch-Jozsa\n",
        "\n",
        "### Лабораторные советы / подсказки\n",
        "\n",
        "- Для всех упражнений с воротами просто добавьте ворота и только ворота.\n",
        "\n",
        "- Для Ex6 посмотрите пример с состоянием GHZ и как оно будет выглядеть, если вы добавите X-гейт.\n",
        "\n",
        "- Для Ex7 сбалансированный аспект связан с тем фактом, что половина выходного сигнала равна «0», а другая — «1». Так что в худшем случае вам придется проверить половину возможностей плюс 1.\n",
        "\n",
        "- Для Ex8 подумайте об алгоритме по частям. Хорошим подспорьем является [глава учебника Qiskit по алгоритму DJ](https://learn.qiskit.org/course/ch-algorithms/deutsch-jozsa-algorithm#full_alg) .\n",
        "\n",
        "- Чтобы протестировать гейт, перейдите в IBM Composer [здесь](https://quantum-computing.ibm.com/composer/files/new) . Согласно документам, «IBM Quantum Composer — это графический инструмент квантового программирования, который позволяет перетаскивать операции для создания квантовых схем и запускать их на реальном квантовом оборудовании или симуляторах».\n",
        "\n",
        "- Для примера 7 формула упоминается в примечаниях к лекции 2.1 в разделе «Алгоритм Дойча-Йожы»&gt; «Классическое решение».\n",
        "\n",
        "- В качестве альтернативного решения для примера 6 можно использовать вентиль «Y», который выполняет переворот бита и переворот фазы на втором кубите, например, $|000\\rangle + |111\\rangle$ изменяется на $|010\\rangle - |101 \\rangle$\n",
        "\n",
        "<!-- ::: q-block.reminder -->\n",
        "\n",
        "### Вопросы-Ответы\n",
        "\n",
        "<details><summary>Нужно ли смотреть две первые лекции, чтобы выполнить лабораторную работу?</summary> Это рекомендуется, но не обязательно.</details>\n",
        "\n",
        "<!-- ::: -->\n",
        "\n",
        "### Предлагаемые ресурсы\n",
        "\n",
        "- Смотреть Daytonellwanger на [Введение в квантовые вычисления (14) — Квантовые схемы и вентили](https://www.youtube.com/watch?v=wLv20RHqlgw)\n",
        "- Смотреть senddex на [Алгоритм Deutsch Jozsa - квантовое компьютерное программирование с Qiskit p.3](https://www.youtube.com/watch?v=_BHvE_pwF6E)\n",
        "- Прочтите Qiskit об [однокубитных вентилях](https://qiskit.org/textbook/ch-states/single-qubit-gates.html#1.2-The-Y-&-Z-gates--)\n",
        "- Прочтите Qiskit об [алгоритме Дойча-Йожа](https://learn.qiskit.org/course/ch-algorithms/deutsch-jozsa-algorithm#full_alg)\n",
        "- Прочтите StackExchange о [реализации четырех состояний колокола в IBMQ](https://quantumcomputing.stackexchange.com/questions/2258/how-to-implement-the-4-bell-states-on-the-ibm-q-composer)\n",
        "- Посмотрите, как доктор Хваджунг Канг рассказывает о [квантовых вычислениях с помощью Qiskit Fundamentals](https://www.youtube.com/watch?v=A2ViFq0yhLI)\n",
        "- Посмотрите, как доктор Хваджунг Канг рассказывает о [квантовых вычислениях с помощью Qiskit Introduction to Algorithms](https://www.youtube.com/watch?v=uuCUUW6Bu2g)\n",
        "- Прочтите Анализ квантового алгоритма Дойча-Йожи в предлагаемых [ресурсах: материалы](https://eprint.iacr.org/2018/249.pdf)\n",
        "- Прочтите Krantz P. et al. в [«Руководстве квантового инженера по сверхпроводящим кубитам»](https://arxiv.org/pdf/1904.06560.pdf)\n",
        "- Прочтите Мутукришнана А. о [классических и квантовых логических воротах](http://www2.optics.rochester.edu/~stroud/presentations/muthukrishnan991/LogicGates.pdf)"
      ]
    },
    {
      "cell_type": "code",
      "execution_count": null,
      "metadata": {
      },
      "outputs": [

      ],
      "source": [

      ]
    }
  ],
  "metadata": {
    "kernelspec": {
      "display_name": "Python 3 (ipykernel)",
      "language": "python",
      "name": "python3"
    },
    "language_info": {
      "codemirror_mode": {
        "name": "ipython",
        "version": 3
      },
      "file_extension": ".py",
      "mimetype": "text/x-python",
      "name": "python",
      "nbconvert_exporter": "python",
      "pygments_lexer": "ipython3",
      "version": "3.9.8"
    }
  },
  "nbformat": 4,
  "nbformat_minor": 4
}
